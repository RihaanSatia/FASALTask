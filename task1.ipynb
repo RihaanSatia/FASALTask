{
 "cells": [
  {
   "cell_type": "code",
   "execution_count": 1,
   "metadata": {},
   "outputs": [],
   "source": [
    "import pymongo"
   ]
  },
  {
   "cell_type": "code",
   "execution_count": 19,
   "metadata": {},
   "outputs": [],
   "source": [
    "if __name__==\"__main__\":\n",
    "    client=pymongo.MongoClient(\"mongodb://localhost:27017/\")\n",
    "    db=client['FASAL']\n",
    "    collection=db['customer']\n",
    "    cust1 = {\n",
    "        \"_id\" : \"600c1806289947de938c68ea\",\n",
    "    \"name\" : \"Ram Mohan\",\n",
    "    \"age\" : 32,\n",
    "    \"gender\" : \"male\",\n",
    "    \"dateJoined\": 2019-09-30T09:18:29.044Z,\n",
    "    \"state\" : \"MH\",\n",
    "    \"country\": \"IN\"\n",
    "    }\n",
    "    collection.insert_one(cust1)\n",
    "    \n",
    "\n",
    "\n"
   ]
  },
  {
   "cell_type": "code",
   "execution_count": 20,
   "metadata": {},
   "outputs": [
    {
     "data": {
      "text/plain": [
       "<pymongo.results.InsertOneResult at 0x1e7363c8340>"
      ]
     },
     "execution_count": 20,
     "metadata": {},
     "output_type": "execute_result"
    }
   ],
   "source": [
    "collection = db['farm']\n",
    "farm1 = {\n",
    "\"_id\" : \"uTMEtfc77M8eLdX7E\",\n",
    "\"customer\" : \"600c1806289947de938c68ea\",\n",
    "\"name\" : \"farm_tomato\",\n",
    "\"crop\" : \"tomato\",\n",
    "\"deviceId\": \"7HGRXY\",\n",
    "\"lat\" :20.632189,\n",
    "\"long\": 74.8961\n",
    "}\n",
    "collection.insert_one(farm1)\n",
    "    "
   ]
  },
  {
   "cell_type": "code",
   "execution_count": 21,
   "metadata": {},
   "outputs": [
    {
     "ename": "SyntaxError",
     "evalue": "leading zeros in decimal integer literals are not permitted; use an 0o prefix for octal integers (<ipython-input-21-d58f2f6b5d48>, line 7)",
     "output_type": "error",
     "traceback": [
      "\u001b[1;36m  File \u001b[1;32m\"<ipython-input-21-d58f2f6b5d48>\"\u001b[1;36m, line \u001b[1;32m7\u001b[0m\n\u001b[1;33m    \"datetime\": 2021-07-30T09:18:29.044Z,\u001b[0m\n\u001b[1;37m                      ^\u001b[0m\n\u001b[1;31mSyntaxError\u001b[0m\u001b[1;31m:\u001b[0m leading zeros in decimal integer literals are not permitted; use an 0o prefix for octal integers\n"
     ]
    }
   ],
   "source": [
    "collection = db['deviceId']\n",
    "dev1 = {\n",
    "\"_id\" : \"uTMEtfc77M8eLdX7E\",\n",
    "\"deviceId\" : \"7HGRXY\",\n",
    "\"TC\" : 24,\n",
    "\"HUM\" : 84,\n",
    "\"datetime\": 2021-07-30T09:18:29.044Z,\n",
    "\"LW\" : 0,\n",
    "\"PLV2\": 0\n",
    "}\n"
   ]
  },
  {
   "cell_type": "code",
   "execution_count": 87,
   "metadata": {},
   "outputs": [],
   "source": [
    "from datetime import datetime\n",
    "import numpy as np"
   ]
  },
  {
   "cell_type": "code",
   "execution_count": 38,
   "metadata": {},
   "outputs": [],
   "source": [
    "import pandas as pd"
   ]
  },
  {
   "cell_type": "markdown",
   "metadata": {},
   "source": [
    "Converting to data frame"
   ]
  },
  {
   "cell_type": "code",
   "execution_count": 45,
   "metadata": {},
   "outputs": [],
   "source": [
    "farmDf = pd.DataFrame(list(db.farm.find({})))"
   ]
  },
  {
   "cell_type": "code",
   "execution_count": 48,
   "metadata": {},
   "outputs": [],
   "source": [
    "customerDf = pd.DataFrame(list(db.customer.find({})))"
   ]
  },
  {
   "cell_type": "code",
   "execution_count": 49,
   "metadata": {},
   "outputs": [],
   "source": [
    "deviceDf = pd.DataFrame(list(db.deviceId.find({})))"
   ]
  },
  {
   "cell_type": "code",
   "execution_count": 51,
   "metadata": {},
   "outputs": [
    {
     "name": "stdout",
     "output_type": "stream",
     "text": [
      "                 _id                  customer         name    crop deviceId  \\\n",
      "0  uTMEtfc77M8eLdX7E  6173cad642f7340b9910b1df  farm_tomato  tomato   7HGRXY   \n",
      "\n",
      "         lat     long  \n",
      "0  20.632189  74.8961  \n"
     ]
    }
   ],
   "source": [
    "print(farmDf)"
   ]
  },
  {
   "cell_type": "code",
   "execution_count": 103,
   "metadata": {},
   "outputs": [],
   "source": [
    "from datetime import date\n",
    "from datetime import datetime"
   ]
  },
  {
   "cell_type": "markdown",
   "metadata": {},
   "source": [
    "convert date to datetime"
   ]
  },
  {
   "cell_type": "code",
   "execution_count": 111,
   "metadata": {},
   "outputs": [],
   "source": [
    "def get_data(crop_name,start_date,end_date,sensor_list):\n",
    "    my_time = datetime.min.time()\n",
    "    starttime = datetime.combine(start_date, my_time)\n",
    "    endtime = datetime.combine(end_date, my_time)\n",
    "    hourlydf = deviceDf.resample('H',on='datetime').agg({\"TC\":'avg',\"HUM\":'mean',\"LW\":'mean',\"PLV2\":'mean'}) ## hourly sampling\n",
    "    hourlydf = hourlydf.loc[(hourlydf['datetime']>=starttime) & (hourlydf['datetime']<endtime)] ## date condition\n",
    "    newdf =farmDf[(farmDf.crop == crop_name)]['deviceId'] ## getting deviceId from crop\n",
    "    printdf = hourlydf[hourlydf.deviceId == newdf ][sensor_list] ##getting sensorlist from deviceID\n",
    "    return printdf"
   ]
  },
  {
   "cell_type": "markdown",
   "metadata": {},
   "source": [
    "yet to convert str to date"
   ]
  },
  {
   "cell_type": "code",
   "execution_count": 112,
   "metadata": {},
   "outputs": [
    {
     "ename": "TypeError",
     "evalue": "combine() argument 1 must be datetime.date, not str",
     "output_type": "error",
     "traceback": [
      "\u001b[1;31m---------------------------------------------------------------------------\u001b[0m",
      "\u001b[1;31mTypeError\u001b[0m                                 Traceback (most recent call last)",
      "\u001b[1;32m<ipython-input-112-cbccdd9e785b>\u001b[0m in \u001b[0;36m<module>\u001b[1;34m\u001b[0m\n\u001b[1;32m----> 1\u001b[1;33m \u001b[0mget_data\u001b[0m\u001b[1;33m(\u001b[0m\u001b[1;34m'tomato'\u001b[0m\u001b[1;33m,\u001b[0m\u001b[1;34m'2020-09-01'\u001b[0m\u001b[1;33m,\u001b[0m\u001b[1;34m'2020-09-15'\u001b[0m\u001b[1;33m,\u001b[0m\u001b[1;33m[\u001b[0m\u001b[1;34m\"TC\"\u001b[0m\u001b[1;33m,\u001b[0m\u001b[1;34m\"HUM\"\u001b[0m\u001b[1;33m]\u001b[0m\u001b[1;33m)\u001b[0m\u001b[1;33m\u001b[0m\u001b[1;33m\u001b[0m\u001b[0m\n\u001b[0m",
      "\u001b[1;32m<ipython-input-111-bec4c5c08699>\u001b[0m in \u001b[0;36mget_data\u001b[1;34m(crop_name, start_date, end_date, sensor_list)\u001b[0m\n\u001b[0;32m      1\u001b[0m \u001b[1;32mdef\u001b[0m \u001b[0mget_data\u001b[0m\u001b[1;33m(\u001b[0m\u001b[0mcrop_name\u001b[0m\u001b[1;33m,\u001b[0m\u001b[0mstart_date\u001b[0m\u001b[1;33m,\u001b[0m\u001b[0mend_date\u001b[0m\u001b[1;33m,\u001b[0m\u001b[0msensor_list\u001b[0m\u001b[1;33m)\u001b[0m\u001b[1;33m:\u001b[0m\u001b[1;33m\u001b[0m\u001b[1;33m\u001b[0m\u001b[0m\n\u001b[0;32m      2\u001b[0m     \u001b[0mmy_time\u001b[0m \u001b[1;33m=\u001b[0m \u001b[0mdatetime\u001b[0m\u001b[1;33m.\u001b[0m\u001b[0mmin\u001b[0m\u001b[1;33m.\u001b[0m\u001b[0mtime\u001b[0m\u001b[1;33m(\u001b[0m\u001b[1;33m)\u001b[0m\u001b[1;33m\u001b[0m\u001b[1;33m\u001b[0m\u001b[0m\n\u001b[1;32m----> 3\u001b[1;33m     \u001b[0mstarttime\u001b[0m \u001b[1;33m=\u001b[0m \u001b[0mdatetime\u001b[0m\u001b[1;33m.\u001b[0m\u001b[0mcombine\u001b[0m\u001b[1;33m(\u001b[0m\u001b[0mstart_date\u001b[0m\u001b[1;33m,\u001b[0m \u001b[0mmy_time\u001b[0m\u001b[1;33m)\u001b[0m\u001b[1;33m\u001b[0m\u001b[1;33m\u001b[0m\u001b[0m\n\u001b[0m\u001b[0;32m      4\u001b[0m     \u001b[0mendtime\u001b[0m \u001b[1;33m=\u001b[0m \u001b[0mdatetime\u001b[0m\u001b[1;33m.\u001b[0m\u001b[0mcombine\u001b[0m\u001b[1;33m(\u001b[0m\u001b[0mend_date\u001b[0m\u001b[1;33m,\u001b[0m \u001b[0mmy_time\u001b[0m\u001b[1;33m)\u001b[0m\u001b[1;33m\u001b[0m\u001b[1;33m\u001b[0m\u001b[0m\n\u001b[0;32m      5\u001b[0m     \u001b[0mhourlydf\u001b[0m \u001b[1;33m=\u001b[0m \u001b[0mdeviceDf\u001b[0m\u001b[1;33m.\u001b[0m\u001b[0mresample\u001b[0m\u001b[1;33m(\u001b[0m\u001b[1;34m'H'\u001b[0m\u001b[1;33m,\u001b[0m\u001b[0mon\u001b[0m\u001b[1;33m=\u001b[0m\u001b[1;34m'datetime'\u001b[0m\u001b[1;33m)\u001b[0m\u001b[1;33m.\u001b[0m\u001b[0magg\u001b[0m\u001b[1;33m(\u001b[0m\u001b[1;33m{\u001b[0m\u001b[1;34m\"TC\"\u001b[0m\u001b[1;33m:\u001b[0m\u001b[1;34m'avg'\u001b[0m\u001b[1;33m,\u001b[0m\u001b[1;34m\"HUM\"\u001b[0m\u001b[1;33m:\u001b[0m\u001b[1;34m'mean'\u001b[0m\u001b[1;33m,\u001b[0m\u001b[1;34m\"LW\"\u001b[0m\u001b[1;33m:\u001b[0m\u001b[1;34m'mean'\u001b[0m\u001b[1;33m,\u001b[0m\u001b[1;34m\"PLV2\"\u001b[0m\u001b[1;33m:\u001b[0m\u001b[1;34m'mean'\u001b[0m\u001b[1;33m}\u001b[0m\u001b[1;33m)\u001b[0m \u001b[1;31m## hourly sampling\u001b[0m\u001b[1;33m\u001b[0m\u001b[1;33m\u001b[0m\u001b[0m\n",
      "\u001b[1;31mTypeError\u001b[0m: combine() argument 1 must be datetime.date, not str"
     ]
    }
   ],
   "source": [
    "get_data('tomato','2020-09-01','2020-09-15',[\"TC\",\"HUM\"])"
   ]
  },
  {
   "cell_type": "code",
   "execution_count": null,
   "metadata": {},
   "outputs": [],
   "source": []
  }
 ],
 "metadata": {
  "kernelspec": {
   "display_name": "Python 3",
   "language": "python",
   "name": "python3"
  },
  "language_info": {
   "codemirror_mode": {
    "name": "ipython",
    "version": 3
   },
   "file_extension": ".py",
   "mimetype": "text/x-python",
   "name": "python",
   "nbconvert_exporter": "python",
   "pygments_lexer": "ipython3",
   "version": "3.8.3"
  }
 },
 "nbformat": 4,
 "nbformat_minor": 4
}
